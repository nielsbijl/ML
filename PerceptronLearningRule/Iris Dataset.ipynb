{
 "cells": [
  {
   "cell_type": "code",
   "execution_count": 1,
   "metadata": {
    "pycharm": {
     "is_executing": false
    }
   },
   "outputs": [],
   "source": [
    "from sklearn.datasets import load_iris\n",
    "from sklearn.metrics import accuracy_score\n",
    "from PerceptronLearningRule.Perceptron import *\n",
    "import random"
   ]
  },
  {
   "cell_type": "code",
   "execution_count": 2,
   "metadata": {},
   "outputs": [],
   "source": [
    "random.seed(1754339)"
   ]
  },
  {
   "cell_type": "markdown",
   "metadata": {},
   "source": [
    "# 3c Iris dataset"
   ]
  },
  {
   "cell_type": "code",
   "execution_count": 3,
   "metadata": {},
   "outputs": [],
   "source": [
    "iris = load_iris()\n",
    "targetNames = iris['target_names']\n",
    "target = iris['target']\n",
    "data = iris['data']"
   ]
  },
  {
   "cell_type": "markdown",
   "metadata": {},
   "source": [
    "### Classificeer eerst alleen de types Setosa en Versicolour."
   ]
  },
  {
   "cell_type": "code",
   "execution_count": 4,
   "metadata": {},
   "outputs": [],
   "source": [
    "SetosaAndVersicolourData = data[:100]\n",
    "SetosaAndVersicolourTarget = target[:100]"
   ]
  },
  {
   "cell_type": "code",
   "execution_count": 5,
   "metadata": {
    "scrolled": true
   },
   "outputs": [
    {
     "name": "stdout",
     "output_type": "stream",
     "text": [
      "Staring perceptron: input: [], weights: [9, -7, 8, -11], bias: 3, output: None\n"
     ]
    }
   ],
   "source": [
    "perceptron = Perceptron([random.randrange(-20, 20), random.randrange(-20, 20), random.randrange(-20, 20), random.randrange(-20, 20)], random.randrange(-20, 20))\n",
    "print(\"Staring perceptron:\", perceptron)"
   ]
  },
  {
   "cell_type": "markdown",
   "metadata": {},
   "source": [
    "#### Het trainen van de perceptron op de Setosa en Versicolour data"
   ]
  },
  {
   "cell_type": "code",
   "execution_count": 6,
   "metadata": {},
   "outputs": [],
   "source": [
    "for x in range(10):\n",
    "    for i in range(len(SetosaAndVersicolourData)):\n",
    "        perceptron.setInput(list(SetosaAndVersicolourData[i]))\n",
    "        perceptron.update(SetosaAndVersicolourTarget[i], learningRate=0.8)"
   ]
  },
  {
   "cell_type": "code",
   "execution_count": 7,
   "metadata": {
    "scrolled": true
   },
   "outputs": [
    {
     "name": "stdout",
     "output_type": "stream",
     "text": [
      "fitted perceptron:  input: [5.7, 2.8, 4.1, 1.3], weights: [3.5600000000000005, -12.680000000000001, 10.88, -9.32], bias: 1.4000000000000001, output: 1\n"
     ]
    }
   ],
   "source": [
    "print(\"fitted perceptron: \", perceptron)"
   ]
  },
  {
   "cell_type": "markdown",
   "metadata": {},
   "source": [
    "Uiteindelijke parameters:\n",
    "\n",
    "Weights: [3.5600000000000005, -12.680000000000001, 10.88, -9.32]\n",
    "\n",
    "Bias: 1.4000000000000001"
   ]
  },
  {
   "cell_type": "markdown",
   "metadata": {},
   "source": [
    "#### Het predicten van de 2 bloemen met de perceptron"
   ]
  },
  {
   "cell_type": "code",
   "execution_count": 8,
   "metadata": {},
   "outputs": [],
   "source": [
    "pred = []\n",
    "for i in range(len(SetosaAndVersicolourData)):\n",
    "    perceptron.setInput(list(SetosaAndVersicolourData[i]))\n",
    "    perceptron.run()\n",
    "    pred.append(perceptron.output)"
   ]
  },
  {
   "cell_type": "code",
   "execution_count": 9,
   "metadata": {},
   "outputs": [
    {
     "data": {
      "text/plain": [
       "100.0"
      ]
     },
     "execution_count": 9,
     "metadata": {},
     "output_type": "execute_result"
    }
   ],
   "source": [
    "accuracy_score(SetosaAndVersicolourTarget, pred) * 100"
   ]
  },
  {
   "cell_type": "markdown",
   "metadata": {},
   "source": [
    "Een mooie score van 100%, wel overfitted ;)\n",
    "Maar het gaat natuurlijk om de functionaliteit van het leren"
   ]
  },
  {
   "cell_type": "markdown",
   "metadata": {},
   "source": [
    "### Classificeer daarna alle drie de types, dus ook Verginica"
   ]
  },
  {
   "cell_type": "code",
   "execution_count": 10,
   "metadata": {},
   "outputs": [
    {
     "name": "stdout",
     "output_type": "stream",
     "text": [
      "staring perceptron: input: [], weights: [18, -4, -3, 1], bias: 8, output: None\n"
     ]
    }
   ],
   "source": [
    "perceptron = Perceptron([random.randrange(-20, 20), random.randrange(-20, 20), random.randrange(-20, 20), random.randrange(-20, 20)], random.randrange(-20, 20))\n",
    "print(\"staring perceptron:\", perceptron)"
   ]
  },
  {
   "cell_type": "markdown",
   "metadata": {},
   "source": [
    "#### Het trainen van de perceptron op alle data"
   ]
  },
  {
   "cell_type": "code",
   "execution_count": 11,
   "metadata": {},
   "outputs": [],
   "source": [
    "for x in range(10):\n",
    "    for i in range(len(data)):\n",
    "        perceptron.setInput(list(data[i]))\n",
    "        perceptron.update(target[i], learningRate=0.8)"
   ]
  },
  {
   "cell_type": "code",
   "execution_count": 12,
   "metadata": {},
   "outputs": [
    {
     "name": "stdout",
     "output_type": "stream",
     "text": [
      "fitted perceptron: \n",
      " input: [5.9, 3.0, 5.1, 1.8], weights: [844.8800000000007, -53.6800000000001, 1691.9600000000046, 723.4799999999992], bias: 46.39999999999997, output: 1\n"
     ]
    }
   ],
   "source": [
    "print(\"fitted perceptron: \\n\", perceptron)"
   ]
  },
  {
   "cell_type": "markdown",
   "metadata": {},
   "source": [
    "Uiteindelijke parameters:\n",
    "\n",
    "Weights: [837.5600000000003, -47.71999999999999, 1687.1200000000042, 740.8000000000004]\n",
    "\n",
    "Bias: 46.999999999999964"
   ]
  },
  {
   "cell_type": "markdown",
   "metadata": {},
   "source": [
    "#### Het predicten van de 3 bloemen met de perceptron"
   ]
  },
  {
   "cell_type": "code",
   "execution_count": 13,
   "metadata": {},
   "outputs": [],
   "source": [
    "pred = []\n",
    "for i in range(len(data)):\n",
    "    perceptron.setInput(list(data[i]))\n",
    "    perceptron.run()\n",
    "    pred.append(perceptron.output)"
   ]
  },
  {
   "cell_type": "code",
   "execution_count": 14,
   "metadata": {},
   "outputs": [
    {
     "data": {
      "text/plain": [
       "33.33333333333333"
      ]
     },
     "execution_count": 14,
     "metadata": {},
     "output_type": "execute_result"
    }
   ],
   "source": [
    "accuracy_score(target, pred) * 100"
   ]
  },
  {
   "cell_type": "markdown",
   "metadata": {},
   "source": [
    "Waarom krijg je met 3 bloemmen zo'n slechte score?\n",
    "Dit komt omdat een enkele perceptron alleen met lineare problemen kan omgaan.\n",
    "3 mogelijke uitkomsten zijn helaas niet linear. Hiervoor is een netwerk van Sigmoid neuron nodig.\n",
    "Omdat het niet mogelijk is om met de step functie een netwerk te leren door backpropagation, hiervoor is echt de sigmoid functie vereist."
   ]
  },
  {
   "cell_type": "code",
   "execution_count": null,
   "metadata": {},
   "outputs": [],
   "source": []
  }
 ],
 "metadata": {
  "kernelspec": {
   "display_name": "Python 3",
   "language": "python",
   "name": "python3"
  },
  "language_info": {
   "codemirror_mode": {
    "name": "ipython",
    "version": 3
   },
   "file_extension": ".py",
   "mimetype": "text/x-python",
   "name": "python",
   "nbconvert_exporter": "python",
   "pygments_lexer": "ipython3",
   "version": "3.7.4"
  }
 },
 "nbformat": 4,
 "nbformat_minor": 1
}
