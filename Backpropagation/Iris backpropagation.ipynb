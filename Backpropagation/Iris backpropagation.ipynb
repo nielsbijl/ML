{
 "cells": [
  {
   "cell_type": "code",
   "execution_count": 1,
   "metadata": {
    "pycharm": {
     "is_executing": false
    }
   },
   "outputs": [],
   "source": [
    "from Neuron import *\n",
    "from NeuronLayer import *\n",
    "from NeuronNetwork import *\n",
    "\n",
    "from sklearn.metrics import accuracy_score\n",
    "from sklearn import datasets\n",
    "import pandas as pd\n",
    "import random"
   ]
  },
  {
   "cell_type": "markdown",
   "metadata": {},
   "source": [
    "## Prep de data"
   ]
  },
  {
   "cell_type": "code",
   "execution_count": 2,
   "metadata": {},
   "outputs": [],
   "source": [
    "#Load the iris dataset\n",
    "iris = datasets.load_iris()\n",
    "iris.target = pd.get_dummies(iris.target)"
   ]
  },
  {
   "cell_type": "code",
   "execution_count": 3,
   "metadata": {},
   "outputs": [],
   "source": [
    "inputs = []\n",
    "targets = []\n",
    "for i in range(len(iris.data)):\n",
    "    inputs.append(list(iris.data[i]))\n",
    "    targets.append(list(iris.target.iloc[i].values))"
   ]
  },
  {
   "cell_type": "markdown",
   "metadata": {},
   "source": [
    "## Create layers and network"
   ]
  },
  {
   "cell_type": "code",
   "execution_count": 25,
   "metadata": {},
   "outputs": [],
   "source": [
    "a1 = Neuron(bias=0, weights=[random.random(), random.random(), random.random(), random.random()])\n",
    "a2 = Neuron(bias=0, weights=[random.random(), random.random(), random.random(), random.random()])\n",
    "a3 = Neuron(bias=0, weights=[random.random(), random.random(), random.random(), random.random()])\n",
    "hiddenLayer = NeuronLayer(neurons=[a1, a2, a3])\n",
    "\n",
    "a1 = Neuron(bias=0, weights=[random.random(), random.random(), random.random()])\n",
    "a2 = Neuron(bias=0, weights=[random.random(), random.random(), random.random()])\n",
    "a3 = Neuron(bias=0, weights=[random.random(), random.random(), random.random()])\n",
    "outputLayer = NeuronLayer(neurons=[a1, a2, a3])\n",
    "\n",
    "network = NeuronNetwork([hiddenLayer, outputLayer])"
   ]
  },
  {
   "cell_type": "markdown",
   "metadata": {},
   "source": [
    "## Train network"
   ]
  },
  {
   "cell_type": "code",
   "execution_count": 26,
   "metadata": {},
   "outputs": [],
   "source": [
    "network.fit(inputs=inputs, targets=targets, epochs=500, learningRate=0.4)"
   ]
  },
  {
   "cell_type": "markdown",
   "metadata": {},
   "source": [
    "## Results"
   ]
  },
  {
   "cell_type": "code",
   "execution_count": 32,
   "metadata": {},
   "outputs": [
    {
     "name": "stdout",
     "output_type": "stream",
     "text": [
      "Score: 97.33333333333334\n",
      "MSE: 0.03211567652668089\n"
     ]
    }
   ],
   "source": [
    "print(\"Score:\", network.score(inputs, targets))\n",
    "print(\"MSE:\", network.MSE)"
   ]
  },
  {
   "cell_type": "code",
   "execution_count": null,
   "metadata": {},
   "outputs": [],
   "source": []
  }
 ],
 "metadata": {
  "kernelspec": {
   "display_name": "Python 3",
   "language": "python",
   "name": "python3"
  },
  "language_info": {
   "codemirror_mode": {
    "name": "ipython",
    "version": 3
   },
   "file_extension": ".py",
   "mimetype": "text/x-python",
   "name": "python",
   "nbconvert_exporter": "python",
   "pygments_lexer": "ipython3",
   "version": "3.8.7"
  }
 },
 "nbformat": 4,
 "nbformat_minor": 1
}
