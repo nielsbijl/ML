{
 "cells": [
  {
   "cell_type": "code",
   "execution_count": 1,
   "metadata": {
    "pycharm": {
     "is_executing": false
    }
   },
   "outputs": [],
   "source": [
    "from Neuron import *\n",
    "from NeuronLayer import *\n",
    "from NeuronNetwork import *\n",
    "\n",
    "from sklearn.metrics import accuracy_score\n",
    "from sklearn.model_selection import train_test_split\n",
    "from sklearn import datasets\n",
    "import pandas as pd\n",
    "import random"
   ]
  },
  {
   "cell_type": "markdown",
   "metadata": {},
   "source": [
    "## Prep de data"
   ]
  },
  {
   "cell_type": "code",
   "execution_count": 2,
   "metadata": {},
   "outputs": [],
   "source": [
    "#Load the iris dataset\n",
    "iris = datasets.load_iris()\n",
    "iris.target = pd.get_dummies(iris.target)"
   ]
  },
  {
   "cell_type": "code",
   "execution_count": 3,
   "metadata": {},
   "outputs": [],
   "source": [
    "inputs = []\n",
    "targets = []\n",
    "for i in range(len(iris.data)):\n",
    "    inputs.append(list(iris.data[i]))\n",
    "    targets.append(list(iris.target.iloc[i].values))"
   ]
  },
  {
   "cell_type": "markdown",
   "metadata": {},
   "source": [
    "### Normaliseren input data"
   ]
  },
  {
   "cell_type": "code",
   "execution_count": 4,
   "metadata": {},
   "outputs": [],
   "source": [
    "inputs = normalize2DList(inputs)"
   ]
  },
  {
   "cell_type": "markdown",
   "metadata": {},
   "source": [
    "### Split in test en train set"
   ]
  },
  {
   "cell_type": "code",
   "execution_count": 5,
   "metadata": {},
   "outputs": [],
   "source": [
    "inputsTrain, inputsTest, targetsTrain, targetsTest = train_test_split(\n",
    "inputs, targets, test_size=0.33, random_state=42)"
   ]
  },
  {
   "cell_type": "markdown",
   "metadata": {},
   "source": [
    "## Create layers and network"
   ]
  },
  {
   "cell_type": "code",
   "execution_count": 6,
   "metadata": {},
   "outputs": [],
   "source": [
    "a1 = Neuron(bias=0, weights=[random.random(), random.random(), random.random(), random.random()])\n",
    "a2 = Neuron(bias=0, weights=[random.random(), random.random(), random.random(), random.random()])\n",
    "a3 = Neuron(bias=0, weights=[random.random(), random.random(), random.random(), random.random()])\n",
    "hiddenLayer = NeuronLayer(neurons=[a1, a2, a3])\n",
    "\n",
    "a1 = Neuron(bias=0, weights=[random.random(), random.random(), random.random()])\n",
    "a2 = Neuron(bias=0, weights=[random.random(), random.random(), random.random()])\n",
    "a3 = Neuron(bias=0, weights=[random.random(), random.random(), random.random()])\n",
    "outputLayer = NeuronLayer(neurons=[a1, a2, a3])\n",
    "\n",
    "network = NeuronNetwork([hiddenLayer, outputLayer])"
   ]
  },
  {
   "cell_type": "markdown",
   "metadata": {},
   "source": [
    "## Train network"
   ]
  },
  {
   "cell_type": "code",
   "execution_count": 7,
   "metadata": {},
   "outputs": [],
   "source": [
    "network.fit(inputs=inputsTrain, targets=targetsTrain, epochs=500, learningRate=0.4)"
   ]
  },
  {
   "cell_type": "markdown",
   "metadata": {},
   "source": [
    "## Results"
   ]
  },
  {
   "cell_type": "code",
   "execution_count": 8,
   "metadata": {},
   "outputs": [
    {
     "name": "stdout",
     "output_type": "stream",
     "text": [
      "Test score:  100.0 %\n",
      "Train score:  97.0 %\n",
      "MSE:  0.04807316572296993\n"
     ]
    }
   ],
   "source": [
    "print(\"Test score: \", network.score(inputsTest, targetsTest), \"%\")\n",
    "print(\"Train score: \", network.score(inputsTrain, targetsTrain), \"%\")\n",
    "print(\"MSE: \", network.MSE)"
   ]
  }
 ],
 "metadata": {
  "kernelspec": {
   "display_name": "Python 3",
   "language": "python",
   "name": "python3"
  },
  "language_info": {
   "codemirror_mode": {
    "name": "ipython",
    "version": 3
   },
   "file_extension": ".py",
   "mimetype": "text/x-python",
   "name": "python",
   "nbconvert_exporter": "python",
   "pygments_lexer": "ipython3",
   "version": "3.8.7"
  }
 },
 "nbformat": 4,
 "nbformat_minor": 1
}
