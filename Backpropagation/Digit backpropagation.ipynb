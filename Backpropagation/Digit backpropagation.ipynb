{
 "cells": [
  {
   "cell_type": "code",
   "execution_count": 1,
   "metadata": {},
   "outputs": [],
   "source": [
    "from Neuron import *\n",
    "from NeuronLayer import *\n",
    "from NeuronNetwork import *\n",
    "\n",
    "from sklearn.model_selection import train_test_split\n",
    "from sklearn import datasets\n",
    "import pandas as pd\n",
    "import random\n",
    "import time"
   ]
  },
  {
   "cell_type": "markdown",
   "metadata": {},
   "source": [
    "## Prep the data"
   ]
  },
  {
   "cell_type": "code",
   "execution_count": 2,
   "metadata": {},
   "outputs": [],
   "source": [
    "digits = datasets.load_digits()\n",
    "digits.target = pd.get_dummies(digits.target)"
   ]
  },
  {
   "cell_type": "code",
   "execution_count": 3,
   "metadata": {},
   "outputs": [],
   "source": [
    "inputs = []\n",
    "targets = []\n",
    "for i in range(len(digits.data)):\n",
    "    inputs.append(list(digits.data[i]))\n",
    "    targets.append(list(digits.target.iloc[i].values))"
   ]
  },
  {
   "cell_type": "markdown",
   "metadata": {},
   "source": [
    "## Normaliseren van de input data"
   ]
  },
  {
   "cell_type": "code",
   "execution_count": 4,
   "metadata": {},
   "outputs": [],
   "source": [
    "inputs = normalize2DList(inputs)"
   ]
  },
  {
   "cell_type": "markdown",
   "metadata": {},
   "source": [
    "### Split train en test set"
   ]
  },
  {
   "cell_type": "code",
   "execution_count": 5,
   "metadata": {},
   "outputs": [],
   "source": [
    "inputsTrain, inputsTest, targetsTrain, targetsTest = train_test_split(\n",
    "inputs, targets, test_size=0.33, random_state=42)"
   ]
  },
  {
   "cell_type": "markdown",
   "metadata": {},
   "source": [
    "## Create neuron layers"
   ]
  },
  {
   "cell_type": "code",
   "execution_count": 6,
   "metadata": {},
   "outputs": [],
   "source": [
    "hiddenNeurons = []\n",
    "for i in range(8):\n",
    "    weights = [random.randrange(-3, 3) for xyz in range(64)]\n",
    "    hiddenNeurons.append(Neuron(bias=0, weights=weights))\n",
    "hiddenLayer = NeuronLayer(neurons=hiddenNeurons)"
   ]
  },
  {
   "cell_type": "code",
   "execution_count": 7,
   "metadata": {},
   "outputs": [],
   "source": [
    "hiddenNeurons2 = []\n",
    "for i in range(4):\n",
    "    weights = [random.randrange(-3, 3) for xyz in range(8)]\n",
    "    hiddenNeurons2.append(Neuron(bias=0, weights=weights))\n",
    "hiddenLayer2 = NeuronLayer(neurons=hiddenNeurons2)"
   ]
  },
  {
   "cell_type": "code",
   "execution_count": 8,
   "metadata": {},
   "outputs": [],
   "source": [
    "outputNeurons = []\n",
    "for i in range(10):  # Output layer heeft 10 output neuronen\n",
    "    weights = [random.randrange(-3, 3) for xyz in range(4)]\n",
    "    outputNeurons.append(Neuron(bias=0, weights=weights))\n",
    "outputLayer = NeuronLayer(neurons=outputNeurons)"
   ]
  },
  {
   "cell_type": "markdown",
   "metadata": {},
   "source": [
    "## Create network"
   ]
  },
  {
   "cell_type": "code",
   "execution_count": 9,
   "metadata": {},
   "outputs": [],
   "source": [
    "network = NeuronNetwork([hiddenLayer, hiddenLayer2, outputLayer])"
   ]
  },
  {
   "cell_type": "markdown",
   "metadata": {},
   "source": [
    "## Train the network"
   ]
  },
  {
   "cell_type": "code",
   "execution_count": 10,
   "metadata": {},
   "outputs": [
    {
     "name": "stdout",
     "output_type": "stream",
     "text": [
      "seconds:  159.89257550239563\n"
     ]
    }
   ],
   "source": [
    "startTime = time.time()\n",
    "network.fit(inputs=inputsTrain, targets=targetsTrain, epochs=150, learningRate=0.4)\n",
    "print(\"seconds: \", (time.time() - startTime))"
   ]
  },
  {
   "cell_type": "markdown",
   "metadata": {},
   "source": [
    "## Results"
   ]
  },
  {
   "cell_type": "code",
   "execution_count": 11,
   "metadata": {},
   "outputs": [
    {
     "name": "stdout",
     "output_type": "stream",
     "text": [
      "Test score:  90.74074074074075 %\n",
      "Train score:  96.17622610141314 %\n",
      "MSE:  0.07697617520246931\n"
     ]
    }
   ],
   "source": [
    "print(\"Test score: \", network.score(inputsTest, targetsTest), \"%\")\n",
    "print(\"Train score: \", network.score(inputsTrain, targetsTrain), \"%\")\n",
    "print(\"MSE: \", network.MSE)"
   ]
  },
  {
   "cell_type": "markdown",
   "metadata": {},
   "source": [
    "Een mooie score behaald, als ik een hogere score wilt moet ik gaan werken met een kleinere learning rate en meer epochs. Om dit elke keer te proberen kost het 160 seconden. Dit duurt mij te lang, het gaat erom dat die kan trainen en dat het werkt!"
   ]
  },
  {
   "cell_type": "markdown",
   "metadata": {},
   "source": [
    "## Using batches"
   ]
  },
  {
   "cell_type": "code",
   "execution_count": 11,
   "metadata": {},
   "outputs": [],
   "source": [
    "network = NeuronNetwork([hiddenLayer, hiddenLayer2, outputLayer])"
   ]
  },
  {
   "cell_type": "code",
   "execution_count": 12,
   "metadata": {},
   "outputs": [
    {
     "name": "stdout",
     "output_type": "stream",
     "text": [
      "seconds:  97.7369921207428\n"
     ]
    }
   ],
   "source": [
    "startTime = time.time()\n",
    "network.fit(inputs=inputsTrain, targets=targetsTrain, epochs=150, learningRate=0.4, batchSize=16)\n",
    "print(\"seconds: \", (time.time() - startTime))"
   ]
  },
  {
   "cell_type": "markdown",
   "metadata": {},
   "source": [
    "Met een batchSize van 16 dan traint die wat sneller, omdat je niet na elk voorbeeld alles update bespaart dit tijd."
   ]
  },
  {
   "cell_type": "markdown",
   "metadata": {},
   "source": [
    "## Results"
   ]
  },
  {
   "cell_type": "code",
   "execution_count": 13,
   "metadata": {},
   "outputs": [
    {
     "name": "stdout",
     "output_type": "stream",
     "text": [
      "Test score:  89.73063973063972 %\n",
      "Train score:  94.43059019118868 %\n",
      "MSE:  0.1017552546345047\n"
     ]
    }
   ],
   "source": [
    "print(\"Test score: \", network.score(inputsTest, targetsTest), \"%\")\n",
    "print(\"Train score: \", network.score(inputsTrain, targetsTrain), \"%\")\n",
    "print(\"MSE: \", network.MSE)"
   ]
  },
  {
   "cell_type": "markdown",
   "metadata": {},
   "source": [
    "Redelijk de zelfde score als met een batchSize van 1"
   ]
  },
  {
   "cell_type": "code",
   "execution_count": null,
   "metadata": {},
   "outputs": [],
   "source": []
  }
 ],
 "metadata": {
  "kernelspec": {
   "display_name": "Python 3",
   "language": "python",
   "name": "python3"
  },
  "language_info": {
   "codemirror_mode": {
    "name": "ipython",
    "version": 3
   },
   "file_extension": ".py",
   "mimetype": "text/x-python",
   "name": "python",
   "nbconvert_exporter": "python",
   "pygments_lexer": "ipython3",
   "version": "3.8.7"
  }
 },
 "nbformat": 4,
 "nbformat_minor": 1
}
