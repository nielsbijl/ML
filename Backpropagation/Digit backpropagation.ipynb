{
 "cells": [
  {
   "cell_type": "code",
   "execution_count": 1,
   "metadata": {},
   "outputs": [],
   "source": [
    "from Neuron import *\n",
    "from NeuronLayer import *\n",
    "from NeuronNetwork import *\n",
    "\n",
    "from sklearn.metrics import accuracy_score\n",
    "from sklearn import datasets\n",
    "import pandas as pd\n",
    "import random\n",
    "import time"
   ]
  },
  {
   "cell_type": "code",
   "execution_count": 2,
   "metadata": {},
   "outputs": [],
   "source": [
    "digits = datasets.load_digits()\n",
    "digits.target = pd.get_dummies(digits.target)"
   ]
  },
  {
   "cell_type": "code",
   "execution_count": 3,
   "metadata": {},
   "outputs": [],
   "source": [
    "inputs = []\n",
    "targets = []\n",
    "for i in range(len(digits.data)):\n",
    "    newList = []\n",
    "    for x in list(digits.data[i]):\n",
    "        newList.append(x/16)\n",
    "    inputs.append(newList)\n",
    "    targets.append(list(digits.target.iloc[i].values))"
   ]
  },
  {
   "cell_type": "code",
   "execution_count": 4,
   "metadata": {},
   "outputs": [],
   "source": [
    "hiddenNeurons = []\n",
    "for i in range(8):\n",
    "    weights = [random.randrange(-3, 3) for xyz in range(64)]\n",
    "    hiddenNeurons.append(Neuron(bias=0, weights=weights))\n",
    "hiddenLayer = NeuronLayer(neurons=hiddenNeurons)"
   ]
  },
  {
   "cell_type": "code",
   "execution_count": 5,
   "metadata": {},
   "outputs": [],
   "source": [
    "hiddenNeurons2 = []\n",
    "for i in range(4):\n",
    "    weights = [random.randrange(-3, 3) for xyz in range(8)]\n",
    "    hiddenNeurons2.append(Neuron(bias=0, weights=weights))\n",
    "hiddenLayer2 = NeuronLayer(neurons=hiddenNeurons2)"
   ]
  },
  {
   "cell_type": "code",
   "execution_count": 6,
   "metadata": {},
   "outputs": [],
   "source": [
    "outputNeurons = []\n",
    "for i in range(10):\n",
    "    weights = [random.randrange(-3, 3) for xyz in range(4)]\n",
    "    outputNeurons.append(Neuron(bias=0, weights=weights))\n",
    "outputLayer = NeuronLayer(neurons=outputNeurons)"
   ]
  },
  {
   "cell_type": "code",
   "execution_count": 7,
   "metadata": {},
   "outputs": [],
   "source": [
    "network = NeuronNetwork([hiddenLayer, hiddenLayer2, outputLayer])"
   ]
  },
  {
   "cell_type": "code",
   "execution_count": 8,
   "metadata": {},
   "outputs": [
    {
     "name": "stdout",
     "output_type": "stream",
     "text": [
      "0.09119261563147095\n",
      "0.0850301624875405\n",
      "0.08130248961775263\n",
      "0.07550951752167513\n",
      "0.07126211277113424\n",
      "0.06921829192668288\n",
      "0.06797611378978723\n",
      "0.06726750701431254\n",
      "0.06652984403764686\n",
      "0.0651543474623508\n",
      "0.06271931226485077\n",
      "0.06058246072487735\n",
      "0.059350508598124185\n",
      "0.05855598766005694\n",
      "0.05777413623137142\n",
      "0.05708432680533973\n",
      "0.056205263542218276\n",
      "0.054506280051490906\n",
      "0.052542286321348074\n",
      "0.050613168972670174\n",
      "0.04925637070913475\n",
      "0.04837565085379587\n",
      "0.04730106842212033\n",
      "0.04340737635684018\n",
      "0.04118371350511131\n",
      "0.03921607567240168\n",
      "0.03782305307689982\n",
      "0.03659656287923148\n",
      "0.03566748130286373\n",
      "0.034759063398240704\n",
      "0.03414430376456019\n",
      "0.03359161161456521\n",
      "0.03265027268514314\n",
      "0.03258157181498379\n",
      "0.031684928639330055\n",
      "0.0312201992157651\n",
      "0.031057911388073567\n",
      "0.031146180746212507\n",
      "0.030939703175272757\n",
      "0.030711460620978678\n",
      "0.030431161742130744\n",
      "0.029957331879123684\n",
      "0.029862287115434573\n",
      "0.029778017539104702\n",
      "0.029871837377108287\n",
      "0.029401279499460763\n",
      "0.029624129551789086\n",
      "0.029397293208781216\n",
      "0.029745032246413224\n",
      "0.029436792542699965\n",
      "0.029699456766649545\n",
      "0.029305147436822263\n",
      "0.029717644141587427\n",
      "0.029457019646430764\n",
      "0.028582417874283096\n",
      "0.029260488330005253\n",
      "0.02888127083303548\n",
      "0.028961633747306686\n",
      "0.028957919776796875\n",
      "0.02838597826000315\n",
      "0.02880909151408077\n",
      "0.028519907988420114\n",
      "0.028294996236733892\n",
      "0.028451020784349787\n",
      "0.02876070611007782\n",
      "0.028629708150465068\n",
      "0.02793939815124031\n",
      "0.02828508419727035\n",
      "0.027920931986335974\n",
      "0.027989388106801082\n",
      "0.028473988083317112\n",
      "0.027887537987981756\n",
      "0.02810148157567793\n",
      "0.027959399276045346\n",
      "0.028248861133910314\n",
      "0.028419460664995774\n",
      "0.02841084668977923\n",
      "0.027670484734896833\n",
      "0.028194930794631347\n",
      "0.028165115174760346\n",
      "0.028205980555592994\n",
      "0.027708303572822484\n",
      "0.027381983001702224\n",
      "0.027534971974293294\n",
      "0.026462851397994726\n",
      "0.02701542529640696\n",
      "0.026510878073270176\n",
      "0.02555149645490509\n",
      "0.024875509476510755\n",
      "0.024953625763407997\n",
      "0.02383061850993991\n",
      "0.023987391390280936\n",
      "0.023443020775942985\n",
      "0.023206579386988793\n",
      "0.02292349338160579\n",
      "0.022303627907158837\n",
      "0.022099834196541848\n",
      "0.02189365962426732\n",
      "0.021861066144469234\n",
      "0.023513102387996893\n",
      "0.022773729001324936\n",
      "0.021980069585407748\n",
      "0.02042287751836372\n",
      "0.022321633210158443\n",
      "0.021709405383874555\n",
      "0.022124275634738236\n",
      "0.022379817236512705\n",
      "0.022095781606607117\n",
      "0.021498911079336946\n",
      "0.025223564311620247\n",
      "0.022794452832983175\n",
      "0.022140155536332685\n",
      "0.022143088888817337\n",
      "0.02266703101850204\n",
      "0.02157355594635874\n",
      "0.023044836418401826\n",
      "0.021409409656037215\n",
      "0.021863446745645478\n",
      "0.021857154418616128\n",
      "0.022126396703381193\n",
      "0.023933109613336445\n",
      "0.02017344023851179\n",
      "0.023322148008900027\n",
      "0.05271880162746228\n",
      "0.053380966108090934\n",
      "0.053206571864652975\n",
      "0.05317474763625079\n",
      "0.05212298597228858\n",
      "0.05189162535513823\n",
      "0.05263676954737831\n",
      "0.05129411333320877\n",
      "0.05169370617073623\n",
      "0.050550385173281774\n",
      "0.05045253407106452\n",
      "0.04958653599446797\n",
      "0.05044472740898356\n",
      "0.05116169292099933\n",
      "0.04798184488665906\n",
      "0.048612666900354894\n",
      "0.04800913726436968\n",
      "0.045450030041351064\n",
      "0.02183963633328534\n",
      "0.02181026064124905\n",
      "0.023165634790952457\n",
      "0.02121341815767923\n",
      "0.021660185606896372\n",
      "0.01930932265812677\n",
      "0.02135380231032357\n",
      "0.020957500494680207\n",
      "0.019881336659364753\n",
      "seconds:  195.9156777858734\n"
     ]
    }
   ],
   "source": [
    "startTime = time.time()\n",
    "network.train(inputs=inputs, targets=targets, epochs=150, learningRate=0.4)\n",
    "print(\"seconds: \", (time.time() - startTime))"
   ]
  },
  {
   "cell_type": "code",
   "execution_count": 9,
   "metadata": {},
   "outputs": [
    {
     "name": "stdout",
     "output_type": "stream",
     "text": [
      "score:  89.53811908736785\n"
     ]
    }
   ],
   "source": [
    "print(\"score: \", network.score(inputs, targets))"
   ]
  },
  {
   "cell_type": "code",
   "execution_count": null,
   "metadata": {},
   "outputs": [],
   "source": []
  }
 ],
 "metadata": {
  "kernelspec": {
   "display_name": "Python 3",
   "language": "python",
   "name": "python3"
  },
  "language_info": {
   "codemirror_mode": {
    "name": "ipython",
    "version": 3
   },
   "file_extension": ".py",
   "mimetype": "text/x-python",
   "name": "python",
   "nbconvert_exporter": "python",
   "pygments_lexer": "ipython3",
   "version": "3.7.4"
  }
 },
 "nbformat": 4,
 "nbformat_minor": 1
}
