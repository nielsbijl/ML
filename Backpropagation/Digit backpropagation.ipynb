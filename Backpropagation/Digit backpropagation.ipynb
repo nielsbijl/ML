{
 "cells": [
  {
   "cell_type": "code",
   "execution_count": 1,
   "metadata": {},
   "outputs": [],
   "source": [
    "from Neuron import *\n",
    "from NeuronLayer import *\n",
    "from NeuronNetwork import *\n",
    "\n",
    "from sklearn.model_selection import train_test_split\n",
    "from sklearn import datasets\n",
    "import pandas as pd\n",
    "import random\n",
    "import time"
   ]
  },
  {
   "cell_type": "markdown",
   "metadata": {},
   "source": [
    "## Prep the data"
   ]
  },
  {
   "cell_type": "code",
   "execution_count": 2,
   "metadata": {},
   "outputs": [],
   "source": [
    "digits = datasets.load_digits()\n",
    "digits.target = pd.get_dummies(digits.target)"
   ]
  },
  {
   "cell_type": "code",
   "execution_count": 3,
   "metadata": {},
   "outputs": [],
   "source": [
    "inputs = []\n",
    "targets = []\n",
    "for i in range(len(digits.data)):\n",
    "    inputs.append(list(digits.data[i]))\n",
    "    targets.append(list(digits.target.iloc[i].values))"
   ]
  },
  {
   "cell_type": "markdown",
   "metadata": {},
   "source": [
    "## Normaliseren van de input data"
   ]
  },
  {
   "cell_type": "code",
   "execution_count": 4,
   "metadata": {},
   "outputs": [],
   "source": [
    "inputs = normalize2DList(inputs)"
   ]
  },
  {
   "cell_type": "markdown",
   "metadata": {},
   "source": [
    "### Split train en test set"
   ]
  },
  {
   "cell_type": "code",
   "execution_count": 5,
   "metadata": {},
   "outputs": [],
   "source": [
    "inputsTrain, inputsTest, targetsTrain, targetsTest = train_test_split(\n",
    "inputs, targets, test_size=0.33, random_state=42)"
   ]
  },
  {
   "cell_type": "markdown",
   "metadata": {},
   "source": [
    "## Create neuron layers"
   ]
  },
  {
   "cell_type": "code",
   "execution_count": 6,
   "metadata": {},
   "outputs": [],
   "source": [
    "hiddenNeurons = []\n",
    "for i in range(8):\n",
    "    weights = [random.randrange(-3, 3) for xyz in range(64)]\n",
    "    hiddenNeurons.append(Neuron(bias=0, weights=weights))\n",
    "hiddenLayer = NeuronLayer(neurons=hiddenNeurons)"
   ]
  },
  {
   "cell_type": "code",
   "execution_count": 7,
   "metadata": {},
   "outputs": [],
   "source": [
    "hiddenNeurons2 = []\n",
    "for i in range(4):\n",
    "    weights = [random.randrange(-3, 3) for xyz in range(8)]\n",
    "    hiddenNeurons2.append(Neuron(bias=0, weights=weights))\n",
    "hiddenLayer2 = NeuronLayer(neurons=hiddenNeurons2)"
   ]
  },
  {
   "cell_type": "code",
   "execution_count": 8,
   "metadata": {},
   "outputs": [],
   "source": [
    "outputNeurons = []\n",
    "for i in range(10):  # Output layer heeft 10 output neuronen\n",
    "    weights = [random.randrange(-3, 3) for xyz in range(4)]\n",
    "    outputNeurons.append(Neuron(bias=0, weights=weights))\n",
    "outputLayer = NeuronLayer(neurons=outputNeurons)"
   ]
  },
  {
   "cell_type": "markdown",
   "metadata": {},
   "source": [
    "## Create network"
   ]
  },
  {
   "cell_type": "code",
   "execution_count": 9,
   "metadata": {},
   "outputs": [],
   "source": [
    "network = NeuronNetwork([hiddenLayer, hiddenLayer2, outputLayer])"
   ]
  },
  {
   "cell_type": "markdown",
   "metadata": {},
   "source": [
    "## Train the network"
   ]
  },
  {
   "cell_type": "code",
   "execution_count": null,
   "metadata": {},
   "outputs": [],
   "source": [
    "startTime = time.time()\n",
    "network.fit(inputs=inputsTrain, targets=targetsTrain, epochs=150, learningRate=0.4)\n",
    "print(\"seconds: \", (time.time() - startTime))"
   ]
  },
  {
   "cell_type": "markdown",
   "metadata": {},
   "source": [
    "## Results"
   ]
  },
  {
   "cell_type": "code",
   "execution_count": null,
   "metadata": {},
   "outputs": [],
   "source": [
    "print(\"Test score: \", network.score(inputsTest, targetsTest), \"%\")\n",
    "print(\"Train score: \", network.score(inputsTrain, targetsTrain), \"%\")\n",
    "print(\"MSE: \", network.MSE)"
   ]
  },
  {
   "cell_type": "code",
   "execution_count": null,
   "metadata": {},
   "outputs": [],
   "source": []
  }
 ],
 "metadata": {
  "kernelspec": {
   "display_name": "Python 3",
   "language": "python",
   "name": "python3"
  },
  "language_info": {
   "codemirror_mode": {
    "name": "ipython",
    "version": 3
   },
   "file_extension": ".py",
   "mimetype": "text/x-python",
   "name": "python",
   "nbconvert_exporter": "python",
   "pygments_lexer": "ipython3",
   "version": "3.8.7"
  }
 },
 "nbformat": 4,
 "nbformat_minor": 1
}
