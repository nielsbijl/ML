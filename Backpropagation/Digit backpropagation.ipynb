{
 "cells": [
  {
   "cell_type": "code",
   "execution_count": 2,
   "metadata": {},
   "outputs": [],
   "source": [
    "from Neuron import *\n",
    "from NeuronLayer import *\n",
    "from NeuronNetwork import *\n",
    "\n",
    "from sklearn.model_selection import train_test_split\n",
    "from sklearn import datasets\n",
    "import pandas as pd\n",
    "import random\n",
    "import time"
   ]
  },
  {
   "cell_type": "markdown",
   "metadata": {},
   "source": [
    "## Prep the data"
   ]
  },
  {
   "cell_type": "code",
   "execution_count": 3,
   "metadata": {},
   "outputs": [],
   "source": [
    "digits = datasets.load_digits()\n",
    "digits.target = pd.get_dummies(digits.target)"
   ]
  },
  {
   "cell_type": "code",
   "execution_count": 4,
   "metadata": {},
   "outputs": [],
   "source": [
    "inputs = []\n",
    "targets = []\n",
    "for i in range(len(digits.data)):\n",
    "    inputs.append(list(digits.data[i]))\n",
    "    targets.append(list(digits.target.iloc[i].values))"
   ]
  },
  {
   "cell_type": "markdown",
   "metadata": {},
   "source": [
    "## Normaliseren van de input data"
   ]
  },
  {
   "cell_type": "code",
   "execution_count": 5,
   "metadata": {},
   "outputs": [],
   "source": [
    "inputs = normalize2DList(inputs)"
   ]
  },
  {
   "cell_type": "markdown",
   "metadata": {},
   "source": [
    "### Split train en test set"
   ]
  },
  {
   "cell_type": "code",
   "execution_count": 6,
   "metadata": {},
   "outputs": [],
   "source": [
    "inputsTrain, inputsTest, targetsTrain, targetsTest = train_test_split(\n",
    "inputs, targets, test_size=0.33, random_state=42)"
   ]
  },
  {
   "cell_type": "markdown",
   "metadata": {},
   "source": [
    "## Create neuron layers"
   ]
  },
  {
   "cell_type": "code",
   "execution_count": 7,
   "metadata": {},
   "outputs": [],
   "source": [
    "hiddenNeurons = []\n",
    "for i in range(8):\n",
    "    weights = [random.randrange(-3, 3) for xyz in range(64)]\n",
    "    hiddenNeurons.append(Neuron(bias=0, weights=weights))\n",
    "hiddenLayer = NeuronLayer(neurons=hiddenNeurons)"
   ]
  },
  {
   "cell_type": "code",
   "execution_count": 8,
   "metadata": {},
   "outputs": [],
   "source": [
    "hiddenNeurons2 = []\n",
    "for i in range(4):\n",
    "    weights = [random.randrange(-3, 3) for xyz in range(8)]\n",
    "    hiddenNeurons2.append(Neuron(bias=0, weights=weights))\n",
    "hiddenLayer2 = NeuronLayer(neurons=hiddenNeurons2)"
   ]
  },
  {
   "cell_type": "code",
   "execution_count": 9,
   "metadata": {},
   "outputs": [],
   "source": [
    "outputNeurons = []\n",
    "for i in range(10):  # Output layer heeft 10 output neuronen\n",
    "    weights = [random.randrange(-3, 3) for xyz in range(4)]\n",
    "    outputNeurons.append(Neuron(bias=0, weights=weights))\n",
    "outputLayer = NeuronLayer(neurons=outputNeurons)"
   ]
  },
  {
   "cell_type": "markdown",
   "metadata": {},
   "source": [
    "## Create network"
   ]
  },
  {
   "cell_type": "code",
   "execution_count": 10,
   "metadata": {},
   "outputs": [],
   "source": [
    "network = NeuronNetwork([hiddenLayer, hiddenLayer2, outputLayer])"
   ]
  },
  {
   "cell_type": "markdown",
   "metadata": {},
   "source": [
    "## Train the network"
   ]
  },
  {
   "cell_type": "code",
   "execution_count": 11,
   "metadata": {},
   "outputs": [
    {
     "name": "stdout",
     "output_type": "stream",
     "text": [
      "seconds:  162.0118134021759\n"
     ]
    }
   ],
   "source": [
    "startTime = time.time()\n",
    "network.fit(inputs=inputsTrain, targets=targetsTrain, epochs=150, learningRate=0.4)\n",
    "print(\"seconds: \", (time.time() - startTime))"
   ]
  },
  {
   "cell_type": "markdown",
   "metadata": {},
   "source": [
    "## Results"
   ]
  },
  {
   "cell_type": "code",
   "execution_count": 11,
   "metadata": {},
   "outputs": [
    {
     "name": "stdout",
     "output_type": "stream",
     "text": [
      "Test score:  90.74074074074075 %\n",
      "Train score:  96.17622610141314 %\n",
      "MSE:  0.07697617520246931\n"
     ]
    }
   ],
   "source": [
    "print(\"Test score: \", network.score(inputsTest, targetsTest), \"%\")\n",
    "print(\"Train score: \", network.score(inputsTrain, targetsTrain), \"%\")\n",
    "print(\"MSE: \", network.MSE)"
   ]
  },
  {
   "cell_type": "markdown",
   "metadata": {},
   "source": [
    "## Using batches"
   ]
  },
  {
   "cell_type": "code",
   "execution_count": 15,
   "metadata": {},
   "outputs": [],
   "source": [
    "network = NeuronNetwork([hiddenLayer, hiddenLayer2, outputLayer])"
   ]
  },
  {
   "cell_type": "code",
   "execution_count": null,
   "metadata": {},
   "outputs": [
    {
     "name": "stdout",
     "output_type": "stream",
     "text": [
      "0.10404463047375634\n",
      "0.10104274506569662\n",
      "0.09991966623841078\n",
      "0.09983950507166273\n",
      "0.10039423740143658\n",
      "0.10146796724521766\n",
      "0.10292309546640654\n",
      "0.10485781438244463\n",
      "0.1073496181438677\n",
      "0.11008748619550895\n",
      "0.1126816068663675\n",
      "0.11498928763358959\n",
      "0.11697011333075351\n",
      "0.11859412075457791\n",
      "0.11989256234768599\n",
      "0.12096275912357317\n",
      "0.12183753159459386\n",
      "0.12255858825693625\n",
      "0.12317747610633346\n",
      "0.123695433729545\n",
      "0.12413312082293465\n",
      "0.12451263232734938\n",
      "0.12483588870487868\n",
      "0.12510498807652984\n",
      "0.12533130942807189\n",
      "0.12551689272029615\n"
     ]
    }
   ],
   "source": [
    "startTime = time.time()\n",
    "network.fit(inputs=inputsTrain, targets=targetsTrain, epochs=150, learningRate=0.4, batchSize=16)\n",
    "print(\"seconds: \", (time.time() - startTime))"
   ]
  },
  {
   "cell_type": "markdown",
   "metadata": {},
   "source": [
    "## Results"
   ]
  },
  {
   "cell_type": "code",
   "execution_count": null,
   "metadata": {},
   "outputs": [],
   "source": [
    "print(\"Test score: \", network.score(inputsTest, targetsTest), \"%\")\n",
    "print(\"Train score: \", network.score(inputsTrain, targetsTrain), \"%\")\n",
    "print(\"MSE: \", network.MSE)"
   ]
  }
 ],
 "metadata": {
  "kernelspec": {
   "display_name": "Python 3",
   "language": "python",
   "name": "python3"
  },
  "language_info": {
   "codemirror_mode": {
    "name": "ipython",
    "version": 3
   },
   "file_extension": ".py",
   "mimetype": "text/x-python",
   "name": "python",
   "nbconvert_exporter": "python",
   "pygments_lexer": "ipython3",
   "version": "3.8.7"
  }
 },
 "nbformat": 4,
 "nbformat_minor": 1
}
